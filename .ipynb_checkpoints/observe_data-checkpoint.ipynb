{
 "cells": [
  {
   "cell_type": "code",
   "execution_count": 14,
   "id": "061cf305-cddd-4b0d-94ef-75842c30c827",
   "metadata": {},
   "outputs": [],
   "source": [
    "import pandas as pd\n",
    "import matplotlib.pyplot as plt"
   ]
  },
  {
   "cell_type": "code",
   "execution_count": 7,
   "id": "07b3f03c-cf75-407f-9130-deffd17c69b9",
   "metadata": {},
   "outputs": [
    {
     "data": {
      "text/html": [
       "<div>\n",
       "<style scoped>\n",
       "    .dataframe tbody tr th:only-of-type {\n",
       "        vertical-align: middle;\n",
       "    }\n",
       "\n",
       "    .dataframe tbody tr th {\n",
       "        vertical-align: top;\n",
       "    }\n",
       "\n",
       "    .dataframe thead th {\n",
       "        text-align: right;\n",
       "    }\n",
       "</style>\n",
       "<table border=\"1\" class=\"dataframe\">\n",
       "  <thead>\n",
       "    <tr style=\"text-align: right;\">\n",
       "      <th></th>\n",
       "      <th>brand</th>\n",
       "      <th>model</th>\n",
       "      <th>model_year</th>\n",
       "      <th>milage</th>\n",
       "      <th>fuel_type</th>\n",
       "      <th>engine</th>\n",
       "      <th>transmission</th>\n",
       "      <th>ext_col</th>\n",
       "      <th>int_col</th>\n",
       "      <th>accident</th>\n",
       "      <th>clean_title</th>\n",
       "      <th>price</th>\n",
       "    </tr>\n",
       "    <tr>\n",
       "      <th>id</th>\n",
       "      <th></th>\n",
       "      <th></th>\n",
       "      <th></th>\n",
       "      <th></th>\n",
       "      <th></th>\n",
       "      <th></th>\n",
       "      <th></th>\n",
       "      <th></th>\n",
       "      <th></th>\n",
       "      <th></th>\n",
       "      <th></th>\n",
       "      <th></th>\n",
       "    </tr>\n",
       "  </thead>\n",
       "  <tbody>\n",
       "    <tr>\n",
       "      <th>0</th>\n",
       "      <td>Ford</td>\n",
       "      <td>F-150 Lariat</td>\n",
       "      <td>2018</td>\n",
       "      <td>74349</td>\n",
       "      <td>Gasoline</td>\n",
       "      <td>375.0HP 3.5L V6 Cylinder Engine Gasoline Fuel</td>\n",
       "      <td>10-Speed A/T</td>\n",
       "      <td>Blue</td>\n",
       "      <td>Gray</td>\n",
       "      <td>None reported</td>\n",
       "      <td>Yes</td>\n",
       "      <td>11000</td>\n",
       "    </tr>\n",
       "    <tr>\n",
       "      <th>1</th>\n",
       "      <td>BMW</td>\n",
       "      <td>335 i</td>\n",
       "      <td>2007</td>\n",
       "      <td>80000</td>\n",
       "      <td>Gasoline</td>\n",
       "      <td>300.0HP 3.0L Straight 6 Cylinder Engine Gasoli...</td>\n",
       "      <td>6-Speed M/T</td>\n",
       "      <td>Black</td>\n",
       "      <td>Black</td>\n",
       "      <td>None reported</td>\n",
       "      <td>Yes</td>\n",
       "      <td>8250</td>\n",
       "    </tr>\n",
       "    <tr>\n",
       "      <th>2</th>\n",
       "      <td>Jaguar</td>\n",
       "      <td>XF Luxury</td>\n",
       "      <td>2009</td>\n",
       "      <td>91491</td>\n",
       "      <td>Gasoline</td>\n",
       "      <td>300.0HP 4.2L 8 Cylinder Engine Gasoline Fuel</td>\n",
       "      <td>6-Speed A/T</td>\n",
       "      <td>Purple</td>\n",
       "      <td>Beige</td>\n",
       "      <td>None reported</td>\n",
       "      <td>Yes</td>\n",
       "      <td>15000</td>\n",
       "    </tr>\n",
       "    <tr>\n",
       "      <th>3</th>\n",
       "      <td>BMW</td>\n",
       "      <td>X7 xDrive40i</td>\n",
       "      <td>2022</td>\n",
       "      <td>2437</td>\n",
       "      <td>Hybrid</td>\n",
       "      <td>335.0HP 3.0L Straight 6 Cylinder Engine Gasoli...</td>\n",
       "      <td>Transmission w/Dual Shift Mode</td>\n",
       "      <td>Gray</td>\n",
       "      <td>Brown</td>\n",
       "      <td>None reported</td>\n",
       "      <td>Yes</td>\n",
       "      <td>63500</td>\n",
       "    </tr>\n",
       "    <tr>\n",
       "      <th>4</th>\n",
       "      <td>Pontiac</td>\n",
       "      <td>Firebird Base</td>\n",
       "      <td>2001</td>\n",
       "      <td>111000</td>\n",
       "      <td>Gasoline</td>\n",
       "      <td>200.0HP 3.8L V6 Cylinder Engine Gasoline Fuel</td>\n",
       "      <td>A/T</td>\n",
       "      <td>White</td>\n",
       "      <td>Black</td>\n",
       "      <td>None reported</td>\n",
       "      <td>Yes</td>\n",
       "      <td>7850</td>\n",
       "    </tr>\n",
       "  </tbody>\n",
       "</table>\n",
       "</div>"
      ],
      "text/plain": [
       "      brand          model  model_year  milage fuel_type  \\\n",
       "id                                                         \n",
       "0      Ford   F-150 Lariat        2018   74349  Gasoline   \n",
       "1       BMW          335 i        2007   80000  Gasoline   \n",
       "2    Jaguar      XF Luxury        2009   91491  Gasoline   \n",
       "3       BMW   X7 xDrive40i        2022    2437    Hybrid   \n",
       "4   Pontiac  Firebird Base        2001  111000  Gasoline   \n",
       "\n",
       "                                               engine  \\\n",
       "id                                                      \n",
       "0       375.0HP 3.5L V6 Cylinder Engine Gasoline Fuel   \n",
       "1   300.0HP 3.0L Straight 6 Cylinder Engine Gasoli...   \n",
       "2        300.0HP 4.2L 8 Cylinder Engine Gasoline Fuel   \n",
       "3   335.0HP 3.0L Straight 6 Cylinder Engine Gasoli...   \n",
       "4       200.0HP 3.8L V6 Cylinder Engine Gasoline Fuel   \n",
       "\n",
       "                      transmission ext_col int_col       accident clean_title  \\\n",
       "id                                                                              \n",
       "0                     10-Speed A/T    Blue    Gray  None reported         Yes   \n",
       "1                      6-Speed M/T   Black   Black  None reported         Yes   \n",
       "2                      6-Speed A/T  Purple   Beige  None reported         Yes   \n",
       "3   Transmission w/Dual Shift Mode    Gray   Brown  None reported         Yes   \n",
       "4                              A/T   White   Black  None reported         Yes   \n",
       "\n",
       "    price  \n",
       "id         \n",
       "0   11000  \n",
       "1    8250  \n",
       "2   15000  \n",
       "3   63500  \n",
       "4    7850  "
      ]
     },
     "execution_count": 7,
     "metadata": {},
     "output_type": "execute_result"
    }
   ],
   "source": [
    "df_train = pd.read_csv(\"data/train.csv\").set_index(\"id\")\n",
    "df_test = pd.read_csv(\"data/test.csv\").set_index(\"id\")\n",
    "df_submission = pd.read_csv(\"data/sample_submission.csv\")\n",
    "\n",
    "df_train.head()"
   ]
  },
  {
   "cell_type": "code",
   "execution_count": 10,
   "id": "7872db02-ec63-44f2-801e-3a1a1502b4d8",
   "metadata": {},
   "outputs": [
    {
     "name": "stdout",
     "output_type": "stream",
     "text": [
      "<class 'pandas.core.frame.DataFrame'>\n",
      "Index: 54273 entries, 0 to 54272\n",
      "Data columns (total 12 columns):\n",
      " #   Column        Non-Null Count  Dtype \n",
      "---  ------        --------------  ----- \n",
      " 0   brand         54273 non-null  object\n",
      " 1   model         54273 non-null  object\n",
      " 2   model_year    54273 non-null  int64 \n",
      " 3   milage        54273 non-null  int64 \n",
      " 4   fuel_type     54273 non-null  object\n",
      " 5   engine        54273 non-null  object\n",
      " 6   transmission  54273 non-null  object\n",
      " 7   ext_col       54273 non-null  object\n",
      " 8   int_col       54273 non-null  object\n",
      " 9   accident      54273 non-null  object\n",
      " 10  clean_title   54273 non-null  object\n",
      " 11  price         54273 non-null  int64 \n",
      "dtypes: int64(3), object(9)\n",
      "memory usage: 5.4+ MB\n"
     ]
    }
   ],
   "source": [
    "df_train.info()"
   ]
  },
  {
   "cell_type": "markdown",
   "id": "aed9c5f2-612a-41bf-9aba-31565607744b",
   "metadata": {},
   "source": [
    "## Understand Data"
   ]
  },
  {
   "cell_type": "code",
   "execution_count": 12,
   "id": "a903e2dd-c315-4d72-b7ef-df1b7d18ca00",
   "metadata": {},
   "outputs": [
    {
     "name": "stdout",
     "output_type": "stream",
     "text": [
      "(53,)\n"
     ]
    },
    {
     "data": {
      "text/plain": [
       "brand\n",
       "BMW              7369\n",
       "Ford             6706\n",
       "Mercedes-Benz    5087\n",
       "Chevrolet        4424\n",
       "Audi             2922\n",
       "Name: count, dtype: int64"
      ]
     },
     "execution_count": 12,
     "metadata": {},
     "output_type": "execute_result"
    }
   ],
   "source": [
    "print(df_train.brand.drop_duplicates().shape)\n",
    "df_train.brand.value_counts().head()"
   ]
  },
  {
   "cell_type": "code",
   "execution_count": 18,
   "id": "1e4efc54-a1d9-4f12-90a0-c181bf9c98dd",
   "metadata": {},
   "outputs": [
    {
     "data": {
      "image/png": "[encoded data removed]",
      "text/plain": [
       "<Figure size 400x200 with 1 Axes>"
      ]
     },
     "metadata": {},
     "output_type": "display_data"
    }
   ],
   "source": [
    "plt.figure(figsize= (4,2))\n",
    "plt.hist(df_train[\"model_year\"]);"
   ]
  },
  {
   "cell_type": "code",
   "execution_count": null,
   "id": "6dd8061d-ffb5-4a41-8c0e-ce06a5f2b079",
   "metadata": {},
   "outputs": [],
   "source": []
  }
 ],
 "metadata": {
  "kernelspec": {
   "display_name": "Python 3 (ipykernel)",
   "language": "python",
   "name": "python3"
  },
  "language_info": {
   "codemirror_mode": {
    "name": "ipython",
    "version": 3
   },
   "file_extension": ".py",
   "mimetype": "text/x-python",
   "name": "python",
   "nbconvert_exporter": "python",
   "pygments_lexer": "ipython3",
   "version": "3.12.2"
  }
 },
 "nbformat": 4,
 "nbformat_minor": 5
}
